{
 "cells": [
  {
   "cell_type": "markdown",
   "metadata": {},
   "source": [
    "# Using the Illumina InterOp Library in Python: Part 4"
   ]
  },
  {
   "cell_type": "markdown",
   "metadata": {
    "collapsed": true
   },
   "source": [
    "## Install \n",
    "\n",
    "If you do not have the Python InterOp library installed, then you can do the following:\n",
    "\n",
    "    $ pip install -f https://github.com/Illumina/interop/releases/latest interop\n",
    "\n",
    "You can verify that InterOp is properly installed:\n",
    "\n",
    "    $ python -m interop --test"
   ]
  },
  {
   "cell_type": "markdown",
   "metadata": {},
   "source": [
    "## Before you begin\n",
    "If you plan to use this tutorial in an interactive fashion, then you should get an example run folder that contains IndexMetricsOut.bin.\n",
    "\n",
    "Please change the path below so that it points at the run folder you wish to use:"
   ]
  },
  {
   "cell_type": "code",
   "execution_count": 1,
   "metadata": {
    "collapsed": true
   },
   "outputs": [],
   "source": [
    "run_folder = \"\""
   ]
  },
  {
   "cell_type": "markdown",
   "metadata": {},
   "source": [
    "## Getting SAV Indexing Tab-like Metrics\n",
    "The `run_metrics` class encapsulates the model for all the individual InterOp files as well as containing information\n",
    "from the `RunInfo.xml`. The [Modules](https://git.illumina.com/pages/Bioinformatics/interop/modules.html) page contains a subset of the applications programmer's interface\n",
    "for all the major classes in C++. The available Python models all have the same names (with a few exceptions) and take\n",
    "the same parameters. This page is useful for accessing specific values loaded from the individual files."
   ]
  },
  {
   "cell_type": "code",
   "execution_count": 2,
   "metadata": {
    "collapsed": true
   },
   "outputs": [],
   "source": [
    "from interop import py_interop_run_metrics, py_interop_run, py_interop_summary"
   ]
  },
  {
   "cell_type": "code",
   "execution_count": 3,
   "metadata": {
    "collapsed": true
   },
   "outputs": [],
   "source": [
    "run_metrics = py_interop_run_metrics.run_metrics()"
   ]
  },
  {
   "cell_type": "markdown",
   "metadata": {},
   "source": [
    "By default, the `run_metrics` class loads all the InterOp files."
   ]
  },
  {
   "cell_type": "markdown",
   "metadata": {
    "collapsed": true
   },
   "source": [
    "> run_folder = run_metrics.read(run_folder)"
   ]
  },
  {
   "cell_type": "markdown",
   "metadata": {},
   "source": [
    "The InterOp library can provide a list of all necessary InterOp files for a specific application. The following shows how to generate that list for the index summary statistics:"
   ]
  },
  {
   "cell_type": "code",
   "execution_count": 4,
   "metadata": {
    "collapsed": true
   },
   "outputs": [],
   "source": [
    "valid_to_load = py_interop_run.uchar_vector(py_interop_run.MetricCount, 0)"
   ]
  },
  {
   "cell_type": "code",
   "execution_count": null,
   "metadata": {
    "collapsed": true
   },
   "outputs": [],
   "source": [
    "py_interop_run_metrics.list_index_metrics_to_load(valid_to_load)"
   ]
  },
  {
   "cell_type": "markdown",
   "metadata": {},
   "source": [
    "The `run_metrics` class can use this list to load only the required InterOp files as follows:"
   ]
  },
  {
   "cell_type": "code",
   "execution_count": null,
   "metadata": {
    "collapsed": true
   },
   "outputs": [],
   "source": [
    "run_folder = run_metrics.read(run_folder, valid_to_load)"
   ]
  },
  {
   "cell_type": "markdown",
   "metadata": {},
   "source": [
    "The [index_flowcell_summary](https://git.illumina.com/pages/Bioinformatics/interop/group__index__flowcell__summary.html) class encapsulates all the metrics displayed on the SAV Indexing tab. This class contains a tree-like\n",
    "structure where metrics describing the run summary are at the root, there is a branch for each lane summary, and \n",
    "a sub branch for each count summary."
   ]
  },
  {
   "cell_type": "code",
   "execution_count": null,
   "metadata": {
    "collapsed": true
   },
   "outputs": [],
   "source": [
    "summary = py_interop_summary.index_flowcell_summary()"
   ]
  },
  {
   "cell_type": "markdown",
   "metadata": {},
   "source": [
    "The `index_flowcell_summary` object can be populated from the `run_metrics` object just so:"
   ]
  },
  {
   "cell_type": "code",
   "execution_count": null,
   "metadata": {
    "collapsed": true
   },
   "outputs": [],
   "source": [
    "py_interop_summary.summarize_index_metrics(run_metrics, summary)"
   ]
  },
  {
   "cell_type": "markdown",
   "metadata": {},
   "source": [
    "### Index Lane Summary\n",
    "The index flowcell summary composes index lane summaries. An index lane summary contains information summarizing the entire lane as well as child index count summaries that describe a single sample.\n",
    "\n",
    "Below, we use pandas to display the index count summary portion of the SAV Indexing Tab:\n"
   ]
  },
  {
   "cell_type": "code",
   "execution_count": null,
   "metadata": {
    "collapsed": true
   },
   "outputs": [],
   "source": [
    "import pandas as pd\n",
    "columns = ( ('Index Number', 'id'), ('Sample Id', 'sample_id'), ('Project', 'project_name'), ('Index 1 (I7)', 'index1'), ('Index 2 (I5)', 'index2'), ('% Reads Identified (PF)', 'fraction_mapped'))\n",
    "lane_summary = summary.at(0)\n",
    "\n",
    "d = []\n",
    "for label, func in columns:\n",
    "    d.append( (label, pd.Series([getattr(lane_summary.at(i), func)() for i in range(lane_summary.size())], index=[lane_summary.at(i).id() for i in range(lane_summary.size())])))\n",
    "df = pd.DataFrame.from_items(d)\n",
    "df"
   ]
  },
  {
   "cell_type": "markdown",
   "metadata": {},
   "source": [
    "You can also view the list of available metrics in the summary as follows:"
   ]
  },
  {
   "cell_type": "code",
   "execution_count": null,
   "metadata": {
    "collapsed": true
   },
   "outputs": [],
   "source": [
    "print \"\\n\".join([method for method in dir(lane_summary) if not method.startswith('_') and method not in (\"set\", \"push_back\", \"reserve\", \"this\", \"resize\", \"clear\", \"sort\")])"
   ]
  },
  {
   "cell_type": "code",
   "execution_count": null,
   "metadata": {
    "collapsed": true
   },
   "outputs": [],
   "source": []
  },
  {
   "cell_type": "code",
   "execution_count": null,
   "metadata": {
    "collapsed": true
   },
   "outputs": [],
   "source": []
  }
 ],
 "metadata": {
  "kernelspec": {
   "display_name": "Python 2",
   "language": "python",
   "name": "python2"
  },
  "language_info": {
   "codemirror_mode": {
    "name": "ipython",
    "version": 2
   },
   "file_extension": ".py",
   "mimetype": "text/x-python",
   "name": "python",
   "nbconvert_exporter": "python",
   "pygments_lexer": "ipython2",
   "version": "2.7.12"
  }
 },
 "nbformat": 4,
 "nbformat_minor": 2
}
