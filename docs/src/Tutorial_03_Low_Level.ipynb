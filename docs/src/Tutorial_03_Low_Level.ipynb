{
 "cells": [
  {
   "cell_type": "markdown",
   "metadata": {},
   "source": [
    "## Install \n",
    "\n",
    "If you do not have the Python InterOp library installed, then you can do the following:\n",
    "\n",
    "    $ pip install -f https://github.com/Illumina/interop/releases/latest interop\n",
    "\n",
    "You can verify that InterOp is properly installed:\n",
    "\n",
    "    $ python -m interop --test"
   ]
  },
  {
   "cell_type": "markdown",
   "metadata": {},
   "source": [
    "## Before you begin\n",
    "If you plan to use this tutorial in an interactive fashion, then you should download an example run folder for an Illumina sequencer. For example, you may download and extract this example run folder: [MiSeqDemo](https://github.com/Illumina/interop/releases/download/v1.0.6/MiSeqDemo.zip)\n",
    "\n",
    "Please change the path below so that it points at the run folder you wish to use:"
   ]
  },
  {
   "cell_type": "code",
   "execution_count": 7,
   "metadata": {
    "collapsed": true
   },
   "outputs": [],
   "source": [
    "run_folder = r\"D:\\RTA.Data\\InteropData\\MiSeqDemo\""
   ]
  },
  {
   "cell_type": "markdown",
   "metadata": {},
   "source": [
    "## How to access a metric at a low level: Extraction Metrics\n",
    "This section introduces loading and accessing elements of a single metric: ExtractionMetricsOut.bin"
   ]
  },
  {
   "cell_type": "code",
   "execution_count": 8,
   "metadata": {
    "collapsed": true
   },
   "outputs": [],
   "source": [
    "from interop import py_interop_run_metrics, py_interop_run"
   ]
  },
  {
   "cell_type": "code",
   "execution_count": 9,
   "metadata": {
    "collapsed": true
   },
   "outputs": [],
   "source": [
    "run_metrics = py_interop_run_metrics.run_metrics()\n",
    "valid_to_load = py_interop_run.uchar_vector(py_interop_run.MetricCount, 0)"
   ]
  },
  {
   "cell_type": "code",
   "execution_count": 10,
   "metadata": {
    "collapsed": true
   },
   "outputs": [],
   "source": [
    "valid_to_load[py_interop_run.Extraction]=1"
   ]
  },
  {
   "cell_type": "code",
   "execution_count": 11,
   "metadata": {},
   "outputs": [],
   "source": [
    "run_metrics.read(run_folder, valid_to_load)"
   ]
  },
  {
   "cell_type": "code",
   "execution_count": 12,
   "metadata": {
    "collapsed": true
   },
   "outputs": [],
   "source": [
    "extraction_metrics = run_metrics.extraction_metric_set()"
   ]
  },
  {
   "cell_type": "code",
   "execution_count": 13,
   "metadata": {},
   "outputs": [
    {
     "name": "stdout",
     "output_type": "stream",
     "text": [
      "Last Cycle:  602\n"
     ]
    }
   ],
   "source": [
    "print \"Last Cycle: \", extraction_metrics.max_cycle()"
   ]
  },
  {
   "cell_type": "code",
   "execution_count": 14,
   "metadata": {
    "collapsed": true
   },
   "outputs": [],
   "source": [
    "lane, tile, cycle, channel = (1, 1101, 15, 0)\n",
    "extraction_metrics.rebuild_index(true)\n",
    "extraction_metric = extraction_metrics.get_metric(lane, tile, cycle)\n",
    "intensity = extraction_metric.max_intensity (channel)"
   ]
  },
  {
   "cell_type": "code",
   "execution_count": 15,
   "metadata": {},
   "outputs": [
    {
     "name": "stdout",
     "output_type": "stream",
     "text": [
      "Intensity for channel 0  lane 1 tile 1101 cycle 15 is 220\n"
     ]
    }
   ],
   "source": [
    "print \"Intensity for channel\", channel, \" lane\", lane, \"tile\", tile, \"cycle\", cycle, \"is\", intensity"
   ]
  },
  {
   "cell_type": "code",
   "execution_count": 16,
   "metadata": {
    "collapsed": true
   },
   "outputs": [],
   "source": [
    "extraction_metric = extraction_metrics.at(0)\n",
    "intensity = extraction_metric.max_intensity (channel)"
   ]
  },
  {
   "cell_type": "code",
   "execution_count": 17,
   "metadata": {},
   "outputs": [
    {
     "name": "stdout",
     "output_type": "stream",
     "text": [
      "Intensity for channel 0  lane 1 tile 1101 cycle 1 is 249\n"
     ]
    }
   ],
   "source": [
    "print \"Intensity for channel\", channel, \" lane\", extraction_metric.lane(), \"tile\", extraction_metric.tile(), \"cycle\", extraction_metric.cycle(), \"is\", intensity"
   ]
  },
  {
   "cell_type": "code",
   "execution_count": null,
   "metadata": {
    "collapsed": true
   },
   "outputs": [],
   "source": []
  }
 ],
 "metadata": {
  "kernelspec": {
   "display_name": "Python 2",
   "language": "python",
   "name": "python2"
  },
  "language_info": {
   "codemirror_mode": {
    "name": "ipython",
    "version": 2
   },
   "file_extension": ".py",
   "mimetype": "text/x-python",
   "name": "python",
   "nbconvert_exporter": "python",
   "pygments_lexer": "ipython2",
   "version": "2.7.13"
  }
 },
 "nbformat": 4,
 "nbformat_minor": 2
}
