{
 "cells": [
  {
   "cell_type": "markdown",
   "metadata": {},
   "source": [
    "# Using the Illumina InterOp Library in Python"
   ]
  },
  {
   "cell_type": "markdown",
   "metadata": {
    "collapsed": true
   },
   "source": [
    "## Install \n",
    "\n",
    "If you do not have the Python InterOp library installed, then you can do the following:\n",
    "\n",
    "    $ pip install -f https://github.com/Illumina/interop/releases/latest interop"
   ]
  },
  {
   "cell_type": "markdown",
   "metadata": {
    "collapsed": true
   },
   "source": [
    "You can verify that InterOp is properly installed:\n",
    "\n",
    "    $ python -m interop --test"
   ]
  },
  {
   "cell_type": "markdown",
   "metadata": {},
   "source": [
    "## Before you begin\n",
    "If you plan to use this tutorial in an interactive fashion, then you should download an example run folder for an Illumina sequencer. For example, you may download and extraction this example run folder: [MiSeqDemo](https://github.com/Illumina/interop/releases/download/v1.0.6/MiSeqDemo.zip)\n",
    "\n",
    "Please change the path below so that it points at the run folder you wish to use:"
   ]
  },
  {
   "cell_type": "code",
   "execution_count": 1,
   "metadata": {
    "collapsed": true
   },
   "outputs": [],
   "source": [
    "run_folder = r\"D:\\RTA.Data\\InteropData\\MiSeqDemo\""
   ]
  },
  {
   "cell_type": "markdown",
   "metadata": {},
   "source": [
    "## Getting SAV Summary Tab-like Metrics\n",
    "The `run_metrics` class encapsulates the model for all the individual InterOp files as well as containing information\n",
    "from the `RunInfo.xml`. The [Modules](https://git.illumina.com/pages/Bioinformatics/interop/modules.html) page contains a subset of the applications programmer's interface\n",
    "for all the major classes in C++. The available Python models all have the same names (with a few exceptions) and take\n",
    "the same parameters. This page is useful for accessing specific values loaded from the individual files."
   ]
  },
  {
   "cell_type": "code",
   "execution_count": 2,
   "metadata": {
    "collapsed": true
   },
   "outputs": [],
   "source": [
    "from interop import py_interop_run_metrics, py_interop_run, py_interop_summary"
   ]
  },
  {
   "cell_type": "code",
   "execution_count": 3,
   "metadata": {
    "collapsed": true
   },
   "outputs": [],
   "source": [
    "run_metrics = py_interop_run_metrics.run_metrics()"
   ]
  },
  {
   "cell_type": "markdown",
   "metadata": {},
   "source": [
    "By default, the `run_metrics` class loads all the InterOp files."
   ]
  },
  {
   "cell_type": "markdown",
   "metadata": {
    "collapsed": true
   },
   "source": [
    "> run_folder = run_metrics.read(run_folder)"
   ]
  },
  {
   "cell_type": "markdown",
   "metadata": {},
   "source": [
    "The InterOp library can provide a list of all necessary InterOp files for a specific application. The following shows how to generate that list for the summary statistics:"
   ]
  },
  {
   "cell_type": "code",
   "execution_count": 4,
   "metadata": {
    "collapsed": true
   },
   "outputs": [],
   "source": [
    "valid_to_load = py_interop_run.uchar_vector(py_interop_run.MetricCount, 0)"
   ]
  },
  {
   "cell_type": "code",
   "execution_count": 5,
   "metadata": {
    "collapsed": true
   },
   "outputs": [],
   "source": [
    "py_interop_run_metrics.list_summary_metrics_to_load(valid_to_load)"
   ]
  },
  {
   "cell_type": "markdown",
   "metadata": {},
   "source": [
    "The `run_metrics` class can use this list to load only the required InterOp files as follows:"
   ]
  },
  {
   "cell_type": "code",
   "execution_count": 6,
   "metadata": {
    "collapsed": true
   },
   "outputs": [],
   "source": [
    "run_folder = run_metrics.read(run_folder, valid_to_load)"
   ]
  },
  {
   "cell_type": "markdown",
   "metadata": {},
   "source": [
    "The `run_summary` class encapsulates all the metrics displayed on the SAV summary tab. This class contains a tree-like\n",
    "structure where metrics describing the run summary are at the root, there is a branch for each read summary, and \n",
    "a sub branch for each read/lane summary."
   ]
  },
  {
   "cell_type": "code",
   "execution_count": 7,
   "metadata": {
    "collapsed": false
   },
   "outputs": [],
   "source": [
    "summary = py_interop_summary.run_summary()"
   ]
  },
  {
   "cell_type": "markdown",
   "metadata": {},
   "source": [
    "The `run_summary` object can be populated from the `run_metrics` object just so:"
   ]
  },
  {
   "cell_type": "code",
   "execution_count": 8,
   "metadata": {
    "collapsed": false
   },
   "outputs": [],
   "source": [
    "py_interop_summary.summarize_run_metrics(run_metrics, summary)"
   ]
  },
  {
   "cell_type": "markdown",
   "metadata": {},
   "source": [
    "### Run Summary\n",
    "The run summary comprises both the `nonindex_summary` and the `total_summary`. A metric in the run summary can be accessed as follows:\n",
    " - `summary.total_summary().yield_g()` or\n",
    " - `summary.nonindex_summary().yield_g()`\n",
    "\n",
    "Below, we use pandas to display the run summary portion of the SAV Summary Tab:\n"
   ]
  },
  {
   "cell_type": "code",
   "execution_count": 9,
   "metadata": {
    "collapsed": false
   },
   "outputs": [
    {
     "data": {
      "text/html": [
       "<div>\n",
       "<table border=\"1\" class=\"dataframe\">\n",
       "  <thead>\n",
       "    <tr style=\"text-align: right;\">\n",
       "      <th></th>\n",
       "      <th>Yield Total (G)</th>\n",
       "      <th>Projected Yield (G)</th>\n",
       "      <th>% Aligned</th>\n",
       "    </tr>\n",
       "  </thead>\n",
       "  <tbody>\n",
       "    <tr>\n",
       "      <th>Non-Indexed Total</th>\n",
       "      <td>18.765484</td>\n",
       "      <td>18.765484</td>\n",
       "      <td>98.047264</td>\n",
       "    </tr>\n",
       "    <tr>\n",
       "      <th>Total</th>\n",
       "      <td>18.765484</td>\n",
       "      <td>18.765484</td>\n",
       "      <td>98.047264</td>\n",
       "    </tr>\n",
       "  </tbody>\n",
       "</table>\n",
       "</div>"
      ],
      "text/plain": [
       "                   Yield Total (G)  Projected Yield (G)  % Aligned\n",
       "Non-Indexed Total        18.765484            18.765484  98.047264\n",
       "Total                    18.765484            18.765484  98.047264"
      ]
     },
     "execution_count": 9,
     "metadata": {},
     "output_type": "execute_result"
    }
   ],
   "source": [
    "import pandas as pd\n",
    "columns = ( ('Yield Total (G)', 'yield_g'), ('Projected Yield (G)', 'projected_yield_g'), ('% Aligned', 'percent_aligned'))\n",
    "rows = [('Non-Indexed Total', summary.nonindex_summary()), ('Total', summary.total_summary())]\n",
    "d = []\n",
    "for label, func in columns:\n",
    "    d.append( (label, pd.Series([getattr(r[1], func)() for r in rows], index=[r[0] for r in rows])))\n",
    "df = pd.DataFrame.from_items(d)\n",
    "df"
   ]
  },
  {
   "cell_type": "markdown",
   "metadata": {},
   "source": [
    "You can also view the list of available metrics in the summary as follows:"
   ]
  },
  {
   "cell_type": "code",
   "execution_count": 10,
   "metadata": {
    "collapsed": false
   },
   "outputs": [
    {
     "name": "stdout",
     "output_type": "stream",
     "text": [
      "error_rate\n",
      "first_cycle_intensity\n",
      "percent_aligned\n",
      "percent_gt_q30\n",
      "projected_yield_g\n",
      "yield_g\n"
     ]
    }
   ],
   "source": [
    "print \"\\n\".join([method for method in dir(summary.total_summary()) if not method.startswith('_') and method not in (\"this\", \"resize\")])"
   ]
  },
  {
   "cell_type": "markdown",
   "metadata": {
    "collapsed": true
   },
   "source": [
    "### Read Summary\n",
    "\n",
    "The read summary defines the same metrics as the run summary and can be accessed as follows:\n",
    "\n",
    "    summary.at(read_index).summary().yield_g()\n",
    "\n",
    "The read information can be accessed as follows:\n",
    "\n",
    "    summary.at(read_index).read().number()\n",
    "    summary.at(read_index).read().is_index()\n",
    "\n",
    "The following code accesses relavant information from the read summary and puts it into a Pandas DataFrame:"
   ]
  },
  {
   "cell_type": "code",
   "execution_count": 11,
   "metadata": {
    "collapsed": false,
    "scrolled": true
   },
   "outputs": [
    {
     "data": {
      "text/html": [
       "<div>\n",
       "<table border=\"1\" class=\"dataframe\">\n",
       "  <thead>\n",
       "    <tr style=\"text-align: right;\">\n",
       "      <th></th>\n",
       "      <th>Yield Total (G)</th>\n",
       "      <th>Projected Yield (G)</th>\n",
       "      <th>% Aligned</th>\n",
       "    </tr>\n",
       "  </thead>\n",
       "  <tbody>\n",
       "    <tr>\n",
       "      <th>Read  1</th>\n",
       "      <td>9.382742</td>\n",
       "      <td>9.382742</td>\n",
       "      <td>99.200142</td>\n",
       "    </tr>\n",
       "    <tr>\n",
       "      <th>Read  2</th>\n",
       "      <td>9.382742</td>\n",
       "      <td>9.382742</td>\n",
       "      <td>96.894386</td>\n",
       "    </tr>\n",
       "  </tbody>\n",
       "</table>\n",
       "</div>"
      ],
      "text/plain": [
       "         Yield Total (G)  Projected Yield (G)  % Aligned\n",
       "Read  1         9.382742             9.382742  99.200142\n",
       "Read  2         9.382742             9.382742  96.894386"
      ]
     },
     "execution_count": 11,
     "metadata": {},
     "output_type": "execute_result"
    }
   ],
   "source": [
    "rows = [(\"Read %s%d\"%(\"(I)\" if summary.at(i).read().is_index()  else \" \", summary.at(i).read().number()), summary.at(i).summary()) for i in xrange(summary.size())]\n",
    "d = []\n",
    "for label, func in columns:\n",
    "    d.append( (label, pd.Series([getattr(r[1], func)() for r in rows], index=[r[0] for r in rows])))\n",
    "df = pd.DataFrame.from_items(d)\n",
    "df"
   ]
  },
  {
   "cell_type": "markdown",
   "metadata": {},
   "source": [
    "### Read 1 Summary\n",
    "\n",
    "The Read/Lane Level summary defines a a boarder set of metrics most of which provide several statistics including mean, standard deviation and median. The mean value over all tiles for density can be accessed as follows:\n",
    "\n",
    "    summary.at(read_index).at(lane_index).density().mean()\n",
    "\n",
    "Since the value may or may not define the mean, standard deviation, median statistics, we define a simple function to detect whether it does and then format it appropriately."
   ]
  },
  {
   "cell_type": "code",
   "execution_count": 12,
   "metadata": {
    "collapsed": true
   },
   "outputs": [],
   "source": [
    "def format_value(val):\n",
    "    if hasattr(val, 'mean'):\n",
    "        return val.mean()\n",
    "    else:\n",
    "        return val"
   ]
  },
  {
   "cell_type": "markdown",
   "metadata": {},
   "source": [
    "The following code accesses relevant information from the read/lane summary and puts it into a Pandas DataFrame:"
   ]
  },
  {
   "cell_type": "code",
   "execution_count": 13,
   "metadata": {
    "collapsed": false
   },
   "outputs": [
    {
     "data": {
      "text/html": [
       "<div>\n",
       "<table border=\"1\" class=\"dataframe\">\n",
       "  <thead>\n",
       "    <tr style=\"text-align: right;\">\n",
       "      <th></th>\n",
       "      <th>Lane</th>\n",
       "      <th>Tiles</th>\n",
       "      <th>Density (K/mm2)</th>\n",
       "    </tr>\n",
       "  </thead>\n",
       "  <tbody>\n",
       "    <tr>\n",
       "      <th>0</th>\n",
       "      <td>1</td>\n",
       "      <td>38</td>\n",
       "      <td>1361895.75</td>\n",
       "    </tr>\n",
       "  </tbody>\n",
       "</table>\n",
       "</div>"
      ],
      "text/plain": [
       "   Lane  Tiles  Density (K/mm2)\n",
       "0     1     38       1361895.75"
      ]
     },
     "execution_count": 13,
     "metadata": {},
     "output_type": "execute_result"
    }
   ],
   "source": [
    "\n",
    "read = 0\n",
    "columns = ( ('Lane', 'lane'), ('Tiles', 'tile_count'), ('Density (K/mm2)', 'density'))\n",
    "rows = [summary.at(read).at(lane) for lane in xrange(summary.lane_count())]\n",
    "d = []\n",
    "for label, func in columns:\n",
    "    d.append( (label, pd.Series([format_value(getattr(r, func)()) for r in rows])))\n",
    "df = pd.DataFrame.from_items(d)\n",
    "df"
   ]
  },
  {
   "cell_type": "code",
   "execution_count": null,
   "metadata": {
    "collapsed": true
   },
   "outputs": [],
   "source": []
  }
 ],
 "metadata": {
  "kernelspec": {
   "display_name": "Python 2",
   "language": "python",
   "name": "python2"
  },
  "language_info": {
   "codemirror_mode": {
    "name": "ipython",
    "version": 2
   },
   "file_extension": ".py",
   "mimetype": "text/x-python",
   "name": "python",
   "nbconvert_exporter": "python",
   "pygments_lexer": "ipython2",
   "version": "2.7.13"
  }
 },
 "nbformat": 4,
 "nbformat_minor": 2
}
