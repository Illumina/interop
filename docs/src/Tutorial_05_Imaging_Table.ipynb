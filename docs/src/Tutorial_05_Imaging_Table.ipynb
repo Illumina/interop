{
 "cells": [
  {
   "cell_type": "markdown",
   "metadata": {},
   "source": [
    "# Using the Illumina InterOp Library in Python: Part 5"
   ]
  },
  {
   "cell_type": "markdown",
   "metadata": {
    "collapsed": true
   },
   "source": [
    "## Install \n",
    "\n",
    "If you do not have the Python InterOp library installed, then you can do the following:\n",
    "\n",
    "    $ pip install interop\n",
    "\n",
    "You can verify that InterOp is properly installed:\n",
    "\n",
    "    $ python -m interop --test"
   ]
  },
  {
   "cell_type": "markdown",
   "metadata": {},
   "source": [
    "## Before you begin\n",
    "If you plan to use this tutorial in an interactive fashion, then you should get an example run folder that contains InterOp files such as TileMetricsOut.bin.\n",
    "\n",
    "Please change the path below so that it points at the run folder you wish to use:"
   ]
  },
  {
   "cell_type": "code",
   "execution_count": 1,
   "metadata": {},
   "outputs": [],
   "source": [
    "run_folder = r\"\""
   ]
  },
  {
   "cell_type": "markdown",
   "metadata": {},
   "source": [
    "## Getting SAV Imaging Tab-like Metrics\n",
    "The `run_metrics` class encapsulates the model for all the individual InterOp files as well as containing information\n",
    "from the `RunInfo.xml`. The [Modules](https://git.illumina.com/pages/Bioinformatics/interop/modules.html) page contains a subset of the applications programmer's interface\n",
    "for all the major classes in C++. The available Python models all have the same names (with a few exceptions) and take\n",
    "the same parameters. This page is useful for accessing specific values loaded from the individual files."
   ]
  },
  {
   "cell_type": "code",
   "execution_count": 2,
   "metadata": {},
   "outputs": [],
   "source": [
    "from interop import py_interop_run_metrics, py_interop_run, py_interop_table\n",
    "import numpy\n",
    "import pandas as pd"
   ]
  },
  {
   "cell_type": "code",
   "execution_count": 3,
   "metadata": {},
   "outputs": [],
   "source": [
    "run_metrics = py_interop_run_metrics.run_metrics()"
   ]
  },
  {
   "cell_type": "markdown",
   "metadata": {},
   "source": [
    "By default, the `run_metrics` class loads all the InterOp files."
   ]
  },
  {
   "cell_type": "markdown",
   "metadata": {
    "collapsed": true
   },
   "source": [
    "> run_folder = run_metrics.read(run_folder)"
   ]
  },
  {
   "cell_type": "markdown",
   "metadata": {},
   "source": [
    "The InterOp library can provide a list of all necessary InterOp files for a specific application. The following shows how to generate that list for the index summary statistics:"
   ]
  },
  {
   "cell_type": "code",
   "execution_count": 4,
   "metadata": {},
   "outputs": [],
   "source": [
    "valid_to_load = py_interop_run.uchar_vector(py_interop_run.MetricCount, 0)"
   ]
  },
  {
   "cell_type": "code",
   "execution_count": 5,
   "metadata": {},
   "outputs": [],
   "source": [
    "py_interop_table.list_imaging_table_metrics_to_load(valid_to_load, False)"
   ]
  },
  {
   "cell_type": "markdown",
   "metadata": {},
   "source": [
    "The `run_metrics` class can use this list to load only the required InterOp files as follows:"
   ]
  },
  {
   "cell_type": "code",
   "execution_count": 6,
   "metadata": {},
   "outputs": [],
   "source": [
    "run_metrics.read(run_folder, valid_to_load)"
   ]
  },
  {
   "cell_type": "markdown",
   "metadata": {},
   "source": [
    "The column headers for the imaing table can be created as follows:"
   ]
  },
  {
   "cell_type": "code",
   "execution_count": 7,
   "metadata": {},
   "outputs": [],
   "source": [
    "columns = py_interop_table.imaging_column_vector()\n",
    "py_interop_table.create_imaging_table_columns(run_metrics, columns)"
   ]
  },
  {
   "cell_type": "markdown",
   "metadata": {},
   "source": [
    "Convert the columns object to a list of strings."
   ]
  },
  {
   "cell_type": "code",
   "execution_count": 8,
   "metadata": {},
   "outputs": [],
   "source": [
    "headers = []\n",
    "for i in range(columns.size()):\n",
    "    column = columns[i]\n",
    "    if column.has_children():\n",
    "        headers.extend([column.name()+\"(\"+subname+\")\" for subname in column.subcolumns()])\n",
    "    else:\n",
    "        headers.append(column.name())"
   ]
  },
  {
   "cell_type": "markdown",
   "metadata": {},
   "source": [
    "Subsample rows and columns"
   ]
  },
  {
   "cell_type": "code",
   "execution_count": 9,
   "metadata": {},
   "outputs": [],
   "source": [
    "row_count=3\n",
    "column_count=7\n",
    "headers=headers[:column_count]"
   ]
  },
  {
   "cell_type": "code",
   "execution_count": 10,
   "metadata": {},
   "outputs": [
    {
     "name": "stdout",
     "output_type": "stream",
     "text": [
      "['Lane', 'Tile', 'Cycle', 'Read', 'Cycle Within Read', 'Density(k/mm2)', 'Density Pf(k/mm2)']\n"
     ]
    }
   ],
   "source": [
    "print headers"
   ]
  },
  {
   "cell_type": "markdown",
   "metadata": {},
   "source": [
    "The data from imaging table can populate a numpy ndarray as follows:"
   ]
  },
  {
   "cell_type": "code",
   "execution_count": 11,
   "metadata": {},
   "outputs": [],
   "source": [
    "column_count = py_interop_table.count_table_columns(columns)\n",
    "row_offsets = py_interop_table.map_id_offset()\n",
    "py_interop_table.count_table_rows(run_metrics, row_offsets)\n",
    "data = numpy.zeros((row_offsets.size(), column_count), dtype=numpy.float32)\n",
    "py_interop_table.populate_imaging_table_data(run_metrics, columns, row_offsets, data.ravel())"
   ]
  },
  {
   "cell_type": "code",
   "execution_count": 12,
   "metadata": {},
   "outputs": [],
   "source": [
    "data=data[:row_count, :]"
   ]
  },
  {
   "cell_type": "markdown",
   "metadata": {},
   "source": [
    "Convert the header list and data ndarray into a Pandas table."
   ]
  },
  {
   "cell_type": "code",
   "execution_count": 13,
   "metadata": {},
   "outputs": [],
   "source": [
    "d = []\n",
    "for col, label in enumerate(headers):\n",
    "    d.append( (label, pd.Series([val for val in data[:, col]], index=[tuple(r) for r in  data[:, :3]])))"
   ]
  },
  {
   "cell_type": "markdown",
   "metadata": {},
   "source": [
    "Render the Imaging Table data using Pandas"
   ]
  },
  {
   "cell_type": "code",
   "execution_count": 14,
   "metadata": {},
   "outputs": [
    {
     "name": "stdout",
     "output_type": "stream",
     "text": [
      "Cycle  Cycle Within Read  Density Pf(k/mm2)  Density(k/mm2)  Lane  Read    Tile\n",
      "  1.0                1.0              230.0           773.0   1.0   1.0  2101.0\n",
      "  2.0                2.0              230.0           773.0   1.0   1.0  2101.0\n",
      "  3.0                3.0              230.0           773.0   1.0   1.0  2101.0\n"
     ]
    }
   ],
   "source": [
    "df = pd.DataFrame.from_dict(dict(d))\n",
    "print(df.to_string(index=False))"
   ]
  },
  {
   "cell_type": "markdown",
   "metadata": {
    "collapsed": true
   },
   "source": [
    "## Getting Only Occpuancy from the imaging table\n",
    "This section shows how to get all metrics from a single InterOp file. Here we are getting all metrics from ExtendedTileMetricsOut.bin, which is % Occupied"
   ]
  },
  {
   "cell_type": "code",
   "execution_count": 15,
   "metadata": {},
   "outputs": [],
   "source": [
    "valid_to_load = py_interop_run.uchar_vector(py_interop_run.MetricCount, 0)"
   ]
  },
  {
   "cell_type": "markdown",
   "metadata": {},
   "source": [
    "This allows you to select a specific file to load. \n",
    "> Note that tables require at least one cycle metric set to be built. We include Extraction below for that reason."
   ]
  },
  {
   "cell_type": "code",
   "execution_count": 16,
   "metadata": {},
   "outputs": [],
   "source": [
    "valid_to_load[py_interop_run.ExtendedTile] = 1\n",
    "valid_to_load[py_interop_run.Tile] = 1\n",
    "valid_to_load[py_interop_run.Extraction] = 1"
   ]
  },
  {
   "cell_type": "code",
   "execution_count": 17,
   "metadata": {},
   "outputs": [],
   "source": [
    "run_metrics.clear()\n",
    "run_metrics.read(run_folder, valid_to_load)"
   ]
  },
  {
   "cell_type": "code",
   "execution_count": 18,
   "metadata": {},
   "outputs": [],
   "source": [
    "py_interop_table.create_imaging_table_columns(run_metrics, columns)"
   ]
  },
  {
   "cell_type": "code",
   "execution_count": 19,
   "metadata": {},
   "outputs": [],
   "source": [
    "headers = []\n",
    "for i in range(columns.size()):\n",
    "    column = columns[i]\n",
    "    if column.has_children():\n",
    "        headers.extend([column.name()+\"(\"+subname+\")\" for subname in column.subcolumns()])\n",
    "    else:\n",
    "        headers.append(column.name())"
   ]
  },
  {
   "cell_type": "code",
   "execution_count": 20,
   "metadata": {},
   "outputs": [],
   "source": [
    "column_count = py_interop_table.count_table_columns(columns)\n",
    "row_offsets = py_interop_table.map_id_offset()\n",
    "py_interop_table.count_table_rows(run_metrics, row_offsets)\n",
    "data = numpy.zeros((row_offsets.size(), column_count), dtype=numpy.float32)\n",
    "py_interop_table.populate_imaging_table_data(run_metrics, columns, row_offsets, data.ravel())"
   ]
  },
  {
   "cell_type": "markdown",
   "metadata": {},
   "source": [
    "Select only the first `row_count` rows."
   ]
  },
  {
   "cell_type": "code",
   "execution_count": 21,
   "metadata": {},
   "outputs": [],
   "source": [
    "data=data[:row_count, :]"
   ]
  },
  {
   "cell_type": "markdown",
   "metadata": {},
   "source": [
    "Select a subset of columns: \n",
    "> Lane, Tile, Cycle, % Occupied"
   ]
  },
  {
   "cell_type": "code",
   "execution_count": 22,
   "metadata": {},
   "outputs": [],
   "source": [
    "header_subset = [\"Lane\", \"Tile\", \"Cycle\", \"% Occupied\"]\n",
    "header_index = [(header, headers.index(header)) for header in header_subset]\n",
    "ids = numpy.asarray([headers.index(header) for header in header_subset[:3]])"
   ]
  },
  {
   "cell_type": "code",
   "execution_count": 23,
   "metadata": {},
   "outputs": [],
   "source": [
    "d = []\n",
    "for label, col in header_index:\n",
    "    d.append( (label, pd.Series([val for val in data[:, col]], index=[tuple(r) for r in data[:, ids]])))"
   ]
  },
  {
   "cell_type": "markdown",
   "metadata": {},
   "source": [
    "Convert to a Pandas DataFrame object"
   ]
  },
  {
   "cell_type": "code",
   "execution_count": 24,
   "metadata": {},
   "outputs": [],
   "source": [
    "df = pd.DataFrame.from_dict(dict(d))\n"
   ]
  },
  {
   "cell_type": "markdown",
   "metadata": {},
   "source": [
    "Only display data from the first cycle"
   ]
  },
  {
   "cell_type": "code",
   "execution_count": 25,
   "metadata": {},
   "outputs": [],
   "source": [
    "df = df.loc[df['Cycle'] == 1.0]"
   ]
  },
  {
   "cell_type": "code",
   "execution_count": 26,
   "metadata": {},
   "outputs": [
    {
     "name": "stdout",
     "output_type": "stream",
     "text": [
      "% Occupied  Cycle  Lane    Tile\n",
      " 85.699997    1.0   1.0  2101.0\n"
     ]
    }
   ],
   "source": [
    "print(df.to_string(index=False))"
   ]
  }
 ],
 "metadata": {
  "kernelspec": {
   "display_name": "Python 2",
   "language": "python",
   "name": "python2"
  },
  "language_info": {
   "codemirror_mode": {
    "name": "ipython",
    "version": 2
   },
   "file_extension": ".py",
   "mimetype": "text/x-python",
   "name": "python",
   "nbconvert_exporter": "python",
   "pygments_lexer": "ipython2",
   "version": "2.7.15"
  }
 },
 "nbformat": 4,
 "nbformat_minor": 2
}
